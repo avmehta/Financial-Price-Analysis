{
 "cells": [
  {
   "cell_type": "code",
   "execution_count": 7,
   "metadata": {
    "collapsed": true
   },
   "outputs": [],
   "source": [
    "%matplotlib inline\n",
    "import numpy as np\n",
    "import pandas as pd\n",
    "import matplotlib.pyplot as plt\n"
   ]
  },
  {
   "cell_type": "code",
   "execution_count": 8,
   "metadata": {
    "collapsed": false
   },
   "outputs": [],
   "source": [
    "def load_data(filename):\n",
    "    df = pd.read_csv(filename)\n",
    "    dfOpen = np.array(df.Open)\n",
    "    dfClose = np.array(df.Close)\n",
    "    dfHigh = np.array(df.High)\n",
    "    dfLow = np.array(df.Low)\n",
    "    a = dfOpen.shape\n",
    "    d = {}\n",
    "    d['Open'] = dfOpen\n",
    "    d['Close'] = dfClose\n",
    "    d['High'] = dfHigh\n",
    "    d['Low'] = dfLow\n",
    "    return d\n",
    "\n",
    "def calcMax(length, high):\n",
    "    a = high.shape\n",
    "    runningMax = np.zeros(a)\n",
    "    runningMax[length-1] = max(high[:length])\n",
    "    for i in range(length,a[0]):\n",
    "        if high[i] >= runningMax[i-1]:\n",
    "            runningMax[i] = high[i]\n",
    "        elif runningMax[i-1] == high[i-length]:\n",
    "            runningMax[i-1] = max(high[i-length+1:i+1])\n",
    "        else:\n",
    "            runningMax[i] = runningMax[i-1]\n",
    "    return runningMax\n",
    "\n",
    "def calcMin(length, low):\n",
    "    a = low.shape\n",
    "    runningLow = np.zeros(a)\n",
    "    runningLow[length] = min(low[:length])\n",
    "    for i in range(length,a[0]):\n",
    "        if low[i] <= runningLow[i-1]:\n",
    "            runningLow[i] = low[i]\n",
    "        elif runningLow[i-1] == low[i-length]:\n",
    "            runningLow[i] = min(low[i-length+1:i+1])\n",
    "        else:\n",
    "            runningLow[i] = runningLow[i-1]\n",
    "    return runningLow\n",
    "\n",
    "def calcSignal(length, rm, rl, high, low):\n",
    "    a = rm.shape\n",
    "    signal = np.zeros(a)\n",
    "    for i in range(length,a[0]):\n",
    "        if high[i] > rm[i-1]:\n",
    "            if low[i] < rl[i-1]:\n",
    "                signal[i] = 0\n",
    "            else:\n",
    "                signal[i] = 1\n",
    "        elif low[i] < rl[i-1]:\n",
    "            signal[i] = -1\n",
    "    return signal\n",
    "\n",
    "def calcDrawdown(portfolio):\n",
    "    a = portfolio.shape\n",
    "    drawdown = np.zeros(a)\n",
    "    prevPeak = portfolio[0]\n",
    "    for i in range(1,a[0]):\n",
    "        if portfolio[i] < prevPeak:\n",
    "            drawdown[i] = portfolio[i] - prevPeak\n",
    "        elif portfolio[i] > prevPeak:\n",
    "            prevPeak = portfolio[i]\n",
    "    return drawdown\n",
    "\n",
    "def calcTrades(length, stopPct, signal, close, Open):\n",
    "    a = Open.shape\n",
    "    trade = np.zeros(a)\n",
    "    currentPos = 0.0\n",
    "    prevPeak = 0.0\n",
    "    prevTrough = 0.0\n",
    "    for i in range(length+1,a[0]-1):\n",
    "        if currentPos == 0:\n",
    "            if signal[i-1] == 1: \n",
    "                trade[i] = 1\n",
    "                currentPos = 1\n",
    "                prevPeak = Open[i]\n",
    "            elif signal[i-1] == -1:\n",
    "                trade[i] = -1\n",
    "                currentPos = -1\n",
    "                prevPeak = prevTrough = Open[i]\n",
    "        elif currentPos == -1:\n",
    "            if close[i-1] < prevTrough:\n",
    "                prevTrough = close[i-1]\n",
    "            elif close[i-1] > (1 + stopPct) * prevThrough:\n",
    "                trade[i] = 1\n",
    "                currentPos = 0\n",
    "                \n",
    "    if currentPos == 1:\n",
    "        trade[a[0]-1] = -1\n",
    "    elif currentPos == -1:\n",
    "        trade[a[0]-1] = 1\n",
    "    return trade\n",
    "\n",
    "def calcPortfolio(length, stopPct, Open, high, low, close, capital):\n",
    "    runningMax = calcMax(length, high)\n",
    "    runningMin = calcMin(length, low)\n",
    "    signal = calcSignal(length, runningMax, runningMin, high, low)\n",
    "    trades = calcTrades(length, stopPct, signal, close, Open)\n",
    "    a = Open.shape\n",
    "    port = np.zeros(a)\n",
    "    port[:length+1] = capital\n",
    "    cash = capital\n",
    "    contractSize = 1000\n",
    "    currentPos = 0\n",
    "    for i in range(length + 1, a[0]):\n",
    "        if trades[i] == 1:\n",
    "            currentPos += 1\n",
    "            cash = cash - contractSize*Open[i]\n",
    "        elif trades[i] == -1:\n",
    "            currentPos -= 1\n",
    "            cash = cash + contractSize*Open[i]\n",
    "        port[i] = cash + currentPos*contractSize*Open[i]\n",
    "    return port\n",
    "            \n",
    "    \n",
    "        \n",
    "    \n",
    "    "
   ]
  },
  {
   "cell_type": "code",
   "execution_count": 9,
   "metadata": {
    "collapsed": false
   },
   "outputs": [],
   "source": [
    "dTY = load_data('TY-5min.csv')\n",
    "dTU = load_data('TU-5min.csv')\n",
    "stopPct = 0.5\n",
    "timeStep = 100\n",
    "capital = 10000.0\n",
    "port = calcPortfolio(timeStep,stopPct,dTY['Open'],dTY['High'],dTY['Low'],dTY['Close'], capital)\n",
    "drawdown = calcDrawdown(port)"
   ]
  },
  {
   "cell_type": "code",
   "execution_count": 10,
   "metadata": {
    "collapsed": false
   },
   "outputs": [
    {
     "data": {
      "text/plain": [
       "[<matplotlib.lines.Line2D at 0x108074e48>]"
      ]
     },
     "execution_count": 10,
     "metadata": {},
     "output_type": "execute_result"
    },
    {
     "data": {
      "image/png": "[encoded data removed]",
      "text/plain": [
       "<matplotlib.figure.Figure at 0x1080670b8>"
      ]
     },
     "metadata": {},
     "output_type": "display_data"
    }
   ],
   "source": [
    "plt.plot(port)\n",
    "plt.plot(drawdown)"
   ]
  },
  {
   "cell_type": "code",
   "execution_count": null,
   "metadata": {
    "collapsed": true
   },
   "outputs": [],
   "source": []
  }
 ],
 "metadata": {
  "kernelspec": {
   "display_name": "Python 3",
   "language": "python",
   "name": "python3"
  },
  "language_info": {
   "codemirror_mode": {
    "name": "ipython",
    "version": 3
   },
   "file_extension": ".py",
   "mimetype": "text/x-python",
   "name": "python",
   "nbconvert_exporter": "python",
   "pygments_lexer": "ipython3",
   "version": "3.6.0"
  }
 },
 "nbformat": 4,
 "nbformat_minor": 2
}
